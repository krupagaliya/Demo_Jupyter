{
  "nbformat": 4,
  "nbformat_minor": 0,
  "metadata": {
    "colab": {
      "name": "Untitled0.ipynb",
      "provenance": [],
      "collapsed_sections": [],
      "include_colab_link": true
    },
    "kernelspec": {
      "name": "python3",
      "display_name": "Python 3"
    },
    "accelerator": "GPU"
  },
  "cells": [
    {
      "cell_type": "markdown",
      "metadata": {
        "id": "view-in-github",
        "colab_type": "text"
      },
      "source": [
        "<a href=\"https://colab.research.google.com/github/krupagaliya/Demo_Jupyter/blob/master/Untitled0.ipynb\" target=\"_parent\"><img src=\"https://colab.research.google.com/assets/colab-badge.svg\" alt=\"Open In Colab\"/></a>"
      ]
    },
    {
      "cell_type": "code",
      "metadata": {
        "id": "p07Ty4y4erZT",
        "colab_type": "code",
        "colab": {
          "base_uri": "https://localhost:8080/",
          "height": 55
        },
        "outputId": "c89ece07-1c54-4b1b-84ab-e6618310bc22"
      },
      "source": [
        "from google.colab import drive\n",
        "drive.mount('/content/drive')"
      ],
      "execution_count": 1,
      "outputs": [
        {
          "output_type": "stream",
          "text": [
            "Drive already mounted at /content/drive; to attempt to forcibly remount, call drive.mount(\"/content/drive\", force_remount=True).\n"
          ],
          "name": "stdout"
        }
      ]
    },
    {
      "cell_type": "code",
      "metadata": {
        "id": "il-8rQVherw_",
        "colab_type": "code",
        "colab": {
          "base_uri": "https://localhost:8080/",
          "height": 35
        },
        "outputId": "b6903cd9-ab67-4e5e-8b03-145d615d215e"
      },
      "source": [
        "cd drive/'My Drive'/Tensorflow_object_Detection"
      ],
      "execution_count": 2,
      "outputs": [
        {
          "output_type": "stream",
          "text": [
            "/content/drive/My Drive/Tensorflow_object_Detection\n"
          ],
          "name": "stdout"
        }
      ]
    },
    {
      "cell_type": "code",
      "metadata": {
        "id": "_4Kc9vAYEkt6",
        "colab_type": "code",
        "colab": {
          "base_uri": "https://localhost:8080/",
          "height": 190
        },
        "outputId": "1fe79c92-8ea7-4e93-a145-bf5c7be7174f"
      },
      "source": [
        "!wget \"https://github.com/09hirenpatel/ObjectDetection.git\""
      ],
      "execution_count": 8,
      "outputs": [
        {
          "output_type": "stream",
          "text": [
            "--2020-01-02 09:51:34--  https://github.com/09hirenpatel/ObjectDetection.git\n",
            "Resolving github.com (github.com)... 140.82.114.4\n",
            "Connecting to github.com (github.com)|140.82.114.4|:443... connected.\n",
            "HTTP request sent, awaiting response... 301 Moved Permanently\n",
            "Location: https://github.com/09hirenpatel/ObjectDetection [following]\n",
            "--2020-01-02 09:51:35--  https://github.com/09hirenpatel/ObjectDetection\n",
            "Reusing existing connection to github.com:443.\n",
            "HTTP request sent, awaiting response... 404 Not Found\n",
            "2020-01-02 09:51:35 ERROR 404: Not Found.\n",
            "\n"
          ],
          "name": "stdout"
        }
      ]
    },
    {
      "cell_type": "code",
      "metadata": {
        "id": "nUdeTA3CpgzM",
        "colab_type": "code",
        "colab": {
          "base_uri": "https://localhost:8080/",
          "height": 380
        },
        "outputId": "a08be062-3b64-450b-fe8c-3dfc5401d8d6"
      },
      "source": [
        "!ssh-keygen"
      ],
      "execution_count": 10,
      "outputs": [
        {
          "output_type": "stream",
          "text": [
            "Generating public/private rsa key pair.\n",
            "Enter file in which to save the key (/root/.ssh/id_rsa): \n",
            "Created directory '/root/.ssh'.\n",
            "Enter passphrase (empty for no passphrase): \n",
            "Enter same passphrase again: \n",
            "Your identification has been saved in /root/.ssh/id_rsa.\n",
            "Your public key has been saved in /root/.ssh/id_rsa.pub.\n",
            "The key fingerprint is:\n",
            "SHA256:RGPTjsdSoK1tj1N+4jUZ98edwNN8zd75JX/w1jjGIA8 root@4159aa9b4338\n",
            "The key's randomart image is:\n",
            "+---[RSA 2048]----+\n",
            "|        *o       |\n",
            "|       = oo      |\n",
            "|      . o=       |\n",
            "|       +o + . o..|\n",
            "|      . So. .+.o+|\n",
            "|       . =E .+++*|\n",
            "|        o ++=o.*X|\n",
            "|         o +..=oO|\n",
            "|          .  . o+|\n",
            "+----[SHA256]-----+\n"
          ],
          "name": "stdout"
        }
      ]
    },
    {
      "cell_type": "code",
      "metadata": {
        "id": "f2qRQRMbrDLd",
        "colab_type": "code",
        "colab": {
          "base_uri": "https://localhost:8080/",
          "height": 55
        },
        "outputId": "013953c0-f7c8-4766-b2a5-bd7e6a9e09a2"
      },
      "source": [
        "!cat  ~/.ssh/id_rsa.pub"
      ],
      "execution_count": 12,
      "outputs": [
        {
          "output_type": "stream",
          "text": [
            "ssh-rsa AAAAB3NzaC1yc2EAAAADAQABAAABAQDnobiJWoELIGWe4eAMqSZfEzo1k5Cc9vy0PA2qWmKNYi1WzHEN7Jw8ZXxFfTp2/y2jmk5xRW4Ds6m217OObUa0tKSd1ug5ZhsDkCWDZwOFdVqfIzKYkhMjGdwXxWZqyaVc3vsoAvZQpOIXP9dnXE0+hbfm7tP28WbamCIqRIwWltr+BQqM6kT0WUZpBQK5pFjVyYVkmjr7QYH9bl8rPwBXO3BbAmXm0OSHM2XfCSh+i7714Dn97CiiX6cD3jJ5T1f/SjtFG9VfPO6ayIOzEsmunZil1Be/Nzh7qkDxE055lybrxTUq56c3Gz1iGFa5JZpKrIHGmzT9QOwA5UoTyykP root@4159aa9b4338\n"
          ],
          "name": "stdout"
        }
      ]
    },
    {
      "cell_type": "code",
      "metadata": {
        "id": "5WX-f9vYrlSC",
        "colab_type": "code",
        "colab": {
          "base_uri": "https://localhost:8080/",
          "height": 121
        },
        "outputId": "c05198b1-70b1-4bfe-d20b-cbbb089b7130"
      },
      "source": [
        "!git clone \"git@github.com:krupagaliya/ObjectDetection.git\""
      ],
      "execution_count": 14,
      "outputs": [
        {
          "output_type": "stream",
          "text": [
            "Cloning into 'ObjectDetection'...\n",
            "Host key verification failed.\r\n",
            "fatal: Could not read from remote repository.\n",
            "\n",
            "Please make sure you have the correct access rights\n",
            "and the repository exists.\n"
          ],
          "name": "stdout"
        }
      ]
    },
    {
      "cell_type": "code",
      "metadata": {
        "id": "ng48CzOoEn-j",
        "colab_type": "code",
        "colab": {
          "base_uri": "https://localhost:8080/",
          "height": 383
        },
        "outputId": "aa1b8c19-bb4c-49a7-d5a2-040cb429a335"
      },
      "source": [
        "!python training/plate_generator.py"
      ],
      "execution_count": 9,
      "outputs": [
        {
          "output_type": "stream",
          "text": [
            "N/A% (0 of 20) |                          | Elapsed Time: 0:00:00 ETA:  --:--:--training/plate_generator.py:283: FutureWarning: Sorting because non-concatenation axis is not aligned. A future version\n",
            "of pandas will change to not sort by default.\n",
            "\n",
            "To accept the future behavior, pass 'sort=False'.\n",
            "\n",
            "To retain the current behavior and silence the warning, pass 'sort=True'.\n",
            "\n",
            "  annotations = pd.concat([annotations, character_coords])\n",
            "100% (20 of 20) |#########################| Elapsed Time: 0:00:10 Time:  0:00:10\n",
            "Plate generated\n",
            "N/A% (0 of 5) |                           | Elapsed Time: 0:00:00 ETA:  --:--:--training/plate_generator.py:283: FutureWarning: Sorting because non-concatenation axis is not aligned. A future version\n",
            "of pandas will change to not sort by default.\n",
            "\n",
            "To accept the future behavior, pass 'sort=False'.\n",
            "\n",
            "To retain the current behavior and silence the warning, pass 'sort=True'.\n",
            "\n",
            "  annotations = pd.concat([annotations, character_coords])\n",
            "100% (5 of 5) |###########################| Elapsed Time: 0:00:02 Time:  0:00:02\n",
            "Plate generated\n"
          ],
          "name": "stdout"
        }
      ]
    },
    {
      "cell_type": "code",
      "metadata": {
        "id": "uZtE5qC_GlIS",
        "colab_type": "code",
        "colab": {}
      },
      "source": [
        ""
      ],
      "execution_count": 0,
      "outputs": []
    }
  ]
}